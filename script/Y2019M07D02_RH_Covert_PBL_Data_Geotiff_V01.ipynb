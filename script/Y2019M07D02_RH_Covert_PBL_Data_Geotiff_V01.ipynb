{
 "cells": [
  {
   "cell_type": "code",
   "execution_count": 1,
   "metadata": {
    "collapsed": true
   },
   "outputs": [],
   "source": [
    "\"\"\" Convert PBL asci rasters to geotiff using rasterio.\n",
    "-------------------------------------------------------------------------------\n",
    "\n",
    "\n",
    "Author: Rutger Hofste\n",
    "Date: 20190702\n",
    "Kernel: python35\n",
    "Docker: rutgerhofste/gisdocker:ubuntu16.04\n",
    "\"\"\"\n",
    "\n",
    "\n",
    "SCRIPT_NAME = \"Y2019M07D02_RH_Covert_PBL_Data_Geotiff_V01\"\n",
    "OUTPUT_VERSION = 2\n",
    "\n",
    "S3_INPUT_PATH = \"s3://wri-projects/Aqueduct30/rawData/PBL\"\n",
    "\n",
    "ec2_input_path = \"/volumes/data/{}/input_V{:02.0f}/\".format(SCRIPT_NAME,OUTPUT_VERSION)\n",
    "ec2_output_path = \"/volumes/data/{}/output_V{:02.0f}/\".format(SCRIPT_NAME,OUTPUT_VERSION)\n",
    "\n",
    "s3_output_path = \"s3://wri-projects/Aqueduct30/processData/{}/output_V{:02.0f}/\".format(SCRIPT_NAME,OUTPUT_VERSION)\n",
    "\n",
    "gcs_output_path = \"gs://aqueduct30_v01/{}/output_V{:02.0f}/\".format(SCRIPT_NAME,OUTPUT_VERSION)\n",
    "\n",
    "types = [\"pbl_ext\",\"pbl_pop\",\"pbl_gdp\"]\n"
   ]
  },
  {
   "cell_type": "code",
   "execution_count": 2,
   "metadata": {},
   "outputs": [
    {
     "name": "stdout",
     "output_type": "stream",
     "text": [
      "Y2019M07D02 UTC 11:05\n"
     ]
    },
    {
     "data": {
      "text/plain": [
       "'3.5.4 |Anaconda, Inc.| (default, Nov 20 2017, 18:44:38) \\n[GCC 7.2.0]'"
      ]
     },
     "execution_count": 2,
     "metadata": {},
     "output_type": "execute_result"
    }
   ],
   "source": [
    "import time, datetime, sys\n",
    "dateString = time.strftime(\"Y%YM%mD%d\")\n",
    "timeString = time.strftime(\"UTC %H:%M\")\n",
    "start = datetime.datetime.now()\n",
    "print(dateString,timeString)\n",
    "sys.version"
   ]
  },
  {
   "cell_type": "code",
   "execution_count": 3,
   "metadata": {},
   "outputs": [
    {
     "name": "stdout",
     "output_type": "stream",
     "text": [
      "rm: cannot remove '/volumes/data/Y2019M07D02_RH_Covert_PBL_Data_Geotiff_V01/input_V02/': No such file or directory\n",
      "rm: cannot remove '/volumes/data/Y2019M07D02_RH_Covert_PBL_Data_Geotiff_V01/output_V02/': No such file or directory\n"
     ]
    }
   ],
   "source": [
    "!rm -r {ec2_input_path}\n",
    "!rm -r {ec2_output_path}\n",
    "\n",
    "!mkdir -p {ec2_input_path}\n",
    "!mkdir -p {ec2_output_path}"
   ]
  },
  {
   "cell_type": "code",
   "execution_count": null,
   "metadata": {},
   "outputs": [
    {
     "name": "stdout",
     "output_type": "stream",
     "text": [
      "download: s3://wri-projects/Aqueduct30/rawData/PBL/READ ME.txt to ../../../data/Y2019M07D02_RH_Covert_PBL_Data_Geotiff_V01/input_V02/READ ME.txt\n",
      "download: s3://wri-projects/Aqueduct30/rawData/PBL/pbl_ext/from_NC_To_gtiff.py to ../../../data/Y2019M07D02_RH_Covert_PBL_Data_Geotiff_V01/input_V02/pbl_ext/from_NC_To_gtiff.py\n",
      "download: s3://wri-projects/Aqueduct30/rawData/PBL/pbl_ext/rural.tif.aux.xml to ../../../data/Y2019M07D02_RH_Covert_PBL_Data_Geotiff_V01/input_V02/pbl_ext/rural.tif.aux.xml\n",
      "download: s3://wri-projects/Aqueduct30/rawData/PBL/FW_ pop and GDP -_ water stress.msg to ../../../data/Y2019M07D02_RH_Covert_PBL_Data_Geotiff_V01/input_V02/FW_ pop and GDP -_ water stress.msg\n",
      "download: s3://wri-projects/Aqueduct30/rawData/PBL/pbl_ext/rural.tif.vat.dbf to ../../../data/Y2019M07D02_RH_Covert_PBL_Data_Geotiff_V01/input_V02/pbl_ext/rural.tif.vat.dbf\n",
      "download: s3://wri-projects/Aqueduct30/rawData/PBL/pbl-2018-Towards-an-urban-preview_3255.pdf to ../../../data/Y2019M07D02_RH_Covert_PBL_Data_Geotiff_V01/input_V02/pbl-2018-Towards-an-urban-preview_3255.pdf\n",
      "download: s3://wri-projects/Aqueduct30/rawData/PBL/pbl_ext/exposure_base_2010_urb_V03.tif.ovr to ../../../data/Y2019M07D02_RH_Covert_PBL_Data_Geotiff_V01/input_V02/pbl_ext/exposure_base_2010_urb_V03.tif.ovr\n",
      "download: s3://wri-projects/Aqueduct30/rawData/PBL/pbl_ext/urban.tfw to ../../../data/Y2019M07D02_RH_Covert_PBL_Data_Geotiff_V01/input_V02/pbl_ext/urban.tfw\n",
      "download: s3://wri-projects/Aqueduct30/rawData/PBL/pbl_ext/rural.tif.ovr to ../../../data/Y2019M07D02_RH_Covert_PBL_Data_Geotiff_V01/input_V02/pbl_ext/rural.tif.ovr\n",
      "download: s3://wri-projects/Aqueduct30/rawData/PBL/pbl_ext/urban.tif.vat.cpg to ../../../data/Y2019M07D02_RH_Covert_PBL_Data_Geotiff_V01/input_V02/pbl_ext/urban.tif.vat.cpg\n",
      "download: s3://wri-projects/Aqueduct30/rawData/PBL/pbl_ext/exposure_base_2010_urb.nc to ../../../data/Y2019M07D02_RH_Covert_PBL_Data_Geotiff_V01/input_V02/pbl_ext/exposure_base_2010_urb.nc\n",
      "download: s3://wri-projects/Aqueduct30/rawData/PBL/pbl_ext/rural.tif to ../../../data/Y2019M07D02_RH_Covert_PBL_Data_Geotiff_V01/input_V02/pbl_ext/rural.tif\n",
      "download: s3://wri-projects/Aqueduct30/rawData/PBL/pbl_ext/urban.tif.aux.xml to ../../../data/Y2019M07D02_RH_Covert_PBL_Data_Geotiff_V01/input_V02/pbl_ext/urban.tif.aux.xml\n",
      "download: s3://wri-projects/Aqueduct30/rawData/PBL/pbl_gdp/ssp1_gdp30_2010.asc.aux.xml to ../../../data/Y2019M07D02_RH_Covert_PBL_Data_Geotiff_V01/input_V02/pbl_gdp/ssp1_gdp30_2010.asc.aux.xml\n",
      "download: s3://wri-projects/Aqueduct30/rawData/PBL/pbl_gdp/ssp1_gdp30_2010.prj to ../../../data/Y2019M07D02_RH_Covert_PBL_Data_Geotiff_V01/input_V02/pbl_gdp/ssp1_gdp30_2010.prj\n",
      "download: s3://wri-projects/Aqueduct30/rawData/PBL/pbl_gdp/ssp1_gdp30_2010_projected.tif.aux.xml to ../../../data/Y2019M07D02_RH_Covert_PBL_Data_Geotiff_V01/input_V02/pbl_gdp/ssp1_gdp30_2010_projected.tif.aux.xml\n",
      "download: s3://wri-projects/Aqueduct30/rawData/PBL/pbl_ext/exposure_base_2010_urb_V03.tif to ../../../data/Y2019M07D02_RH_Covert_PBL_Data_Geotiff_V01/input_V02/pbl_ext/exposure_base_2010_urb_V03.tif\n",
      "download: s3://wri-projects/Aqueduct30/rawData/PBL/pbl_ext/urban.tif to ../../../data/Y2019M07D02_RH_Covert_PBL_Data_Geotiff_V01/input_V02/pbl_ext/urban.tif\n",
      "download: s3://wri-projects/Aqueduct30/rawData/PBL/pbl_gdp/ssp1_gdp30_2010.asc.ovr to ../../../data/Y2019M07D02_RH_Covert_PBL_Data_Geotiff_V01/input_V02/pbl_gdp/ssp1_gdp30_2010.asc.ovr\n",
      "download: s3://wri-projects/Aqueduct30/rawData/PBL/pbl_gdp/ssp1_gdp30_2030.asc.aux.xml to ../../../data/Y2019M07D02_RH_Covert_PBL_Data_Geotiff_V01/input_V02/pbl_gdp/ssp1_gdp30_2030.asc.aux.xml\n",
      "download: s3://wri-projects/Aqueduct30/rawData/PBL/pbl_gdp/ssp1_gdp30_2030.prj to ../../../data/Y2019M07D02_RH_Covert_PBL_Data_Geotiff_V01/input_V02/pbl_gdp/ssp1_gdp30_2030.prj\n",
      "download: s3://wri-projects/Aqueduct30/rawData/PBL/pbl_gdp/ssp1_gdp30_2010_projected.tif.ovr to ../../../data/Y2019M07D02_RH_Covert_PBL_Data_Geotiff_V01/input_V02/pbl_gdp/ssp1_gdp30_2010_projected.tif.ovr\n",
      "download: s3://wri-projects/Aqueduct30/rawData/PBL/pbl_gdp/ssp1_gdp30_2080.prj to ../../../data/Y2019M07D02_RH_Covert_PBL_Data_Geotiff_V01/input_V02/pbl_gdp/ssp1_gdp30_2080.prj\n",
      "download: s3://wri-projects/Aqueduct30/rawData/PBL/pbl_gdp/ssp1_gdp30_2010_projected.tif to ../../../data/Y2019M07D02_RH_Covert_PBL_Data_Geotiff_V01/input_V02/pbl_gdp/ssp1_gdp30_2010_projected.tif\n",
      "download: s3://wri-projects/Aqueduct30/rawData/PBL/pbl_gdp/ssp1_gdp30_2030.asc.ovr to ../../../data/Y2019M07D02_RH_Covert_PBL_Data_Geotiff_V01/input_V02/pbl_gdp/ssp1_gdp30_2030.asc.ovr\n",
      "download: s3://wri-projects/Aqueduct30/rawData/PBL/pbl_pop/ssp1_total_pop30_2010.asc.aux.xml to ../../../data/Y2019M07D02_RH_Covert_PBL_Data_Geotiff_V01/input_V02/pbl_pop/ssp1_total_pop30_2010.asc.aux.xml\n",
      "download: s3://wri-projects/Aqueduct30/rawData/PBL/pbl_pop/ssp1_total_pop30_2010.asc.ovr to ../../../data/Y2019M07D02_RH_Covert_PBL_Data_Geotiff_V01/input_V02/pbl_pop/ssp1_total_pop30_2010.asc.ovr\n",
      "download: s3://wri-projects/Aqueduct30/rawData/PBL/pbl_pop/ssp1_total_pop30_2010.prj to ../../../data/Y2019M07D02_RH_Covert_PBL_Data_Geotiff_V01/input_V02/pbl_pop/ssp1_total_pop30_2010.prj\n",
      "Completed 1.2 GiB/~20.8 GiB (123.4 MiB/s) with ~5 file(s) remaining (calculating...)   \r"
     ]
    }
   ],
   "source": [
    "!aws s3 cp --recursive {S3_INPUT_PATH} {ec2_input_path} "
   ]
  },
  {
   "cell_type": "code",
   "execution_count": null,
   "metadata": {
    "collapsed": true
   },
   "outputs": [],
   "source": [
    "import os\n",
    "import rasterio"
   ]
  },
  {
   "cell_type": "code",
   "execution_count": null,
   "metadata": {},
   "outputs": [],
   "source": [
    "paths = []\n",
    "for root, dirs, files in os.walk(ec2_input_path):\n",
    "    for file in files:\n",
    "        if file.endswith(\".asc\"):\n",
    "             paths.append(os.path.join(root, file))"
   ]
  },
  {
   "cell_type": "code",
   "execution_count": null,
   "metadata": {
    "collapsed": true
   },
   "outputs": [],
   "source": [
    "def raster_to_geotiff(src_path,dst_path):\n",
    "    \"\"\" Opens a rasterio single band raster and \n",
    "    converts to LZW compressed geotiff. \n",
    "    \n",
    "    dType and projection are preserved.\n",
    "    \n",
    "    Args:\n",
    "        src_path(string): input file path.\n",
    "        dst_path(string): output file path.\n",
    "    \n",
    "    \"\"\"\n",
    "    with rasterio.open(src_path) as src:\n",
    "        profile = src.profile\n",
    "        profile.update(compress='lzw')        \n",
    "        with rasterio.open(\n",
    "            dst_path,\n",
    "            'w',\n",
    "            driver='GTiff',\n",
    "            height=src.height,\n",
    "            width=src.width,\n",
    "            count=1,\n",
    "            dtype=src.dtypes[0],\n",
    "            crs=src.crs,\n",
    "            transform=src.transform,\n",
    "        ) as dst:\n",
    "            dst.write(src.read(1), 1)\n",
    "    return dst_path"
   ]
  },
  {
   "cell_type": "code",
   "execution_count": null,
   "metadata": {},
   "outputs": [],
   "source": [
    "for path in paths:\n",
    "    print(path)\n",
    "    input_filename = path.split(\"/\")[-1]\n",
    "    base_filename, input_extension = input_filename.split(\".\")\n",
    "    output_filename = base_filename + \".tif\"\n",
    "    output_path = ec2_output_path + output_filename\n",
    "    raster_to_geotiff(path,output_path)"
   ]
  },
  {
   "cell_type": "code",
   "execution_count": null,
   "metadata": {},
   "outputs": [],
   "source": [
    "!gsutil -m cp -r \\\n",
    "{ec2_output_path} \\\n",
    "{gcs_output_path}\n"
   ]
  },
  {
   "cell_type": "code",
   "execution_count": null,
   "metadata": {},
   "outputs": [],
   "source": [
    "!aws s3 cp --recursive {ec2_output_path}  {s3_output_path} "
   ]
  },
  {
   "cell_type": "code",
   "execution_count": null,
   "metadata": {
    "collapsed": true
   },
   "outputs": [],
   "source": [
    "end = datetime.datetime.now()\n",
    "elapsed = end - start\n",
    "print(elapsed)"
   ]
  }
 ],
 "metadata": {
  "kernelspec": {
   "display_name": "Python 35",
   "language": "python",
   "name": "python35"
  },
  "language_info": {
   "codemirror_mode": {
    "name": "ipython",
    "version": 3
   },
   "file_extension": ".py",
   "mimetype": "text/x-python",
   "name": "python",
   "nbconvert_exporter": "python",
   "pygments_lexer": "ipython3",
   "version": "3.5.4"
  }
 },
 "nbformat": 4,
 "nbformat_minor": 2
}
